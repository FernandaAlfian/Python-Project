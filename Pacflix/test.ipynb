{
 "cells": [
  {
   "cell_type": "code",
   "execution_count": 4,
   "metadata": {},
   "outputs": [],
   "source": [
    "import datetime"
   ]
  },
  {
   "cell_type": "code",
   "execution_count": 10,
   "metadata": {},
   "outputs": [],
   "source": [
    "list ={'John Doe': ['Basic Plan', datetime.date(2023, 10, 12), 120000], \n",
    "       'Alice Smith': ['Standard Plan', datetime.date(2023, 10, 12), 160000], \n",
    "       'bubu': ['Basic Plan', datetime.date(2023, 10, 12), 120000], \n",
    "       'lala': ['Standard Plan', datetime.date(2023, 10, 12), 160000]}"
   ]
  },
  {
   "cell_type": "code",
   "execution_count": 14,
   "metadata": {},
   "outputs": [
    {
     "ename": "AttributeError",
     "evalue": "'dict' object has no attribute 'key'",
     "output_type": "error",
     "traceback": [
      "\u001b[1;31m---------------------------------------------------------------------------\u001b[0m",
      "\u001b[1;31mAttributeError\u001b[0m                            Traceback (most recent call last)",
      "\u001b[1;32me:\\Pacmann\\New Pacflix\\test.ipynb Cell 3\u001b[0m line \u001b[0;36m1\n\u001b[1;32m----> <a href='vscode-notebook-cell:/e%3A/Pacmann/New%20Pacflix/test.ipynb#X13sZmlsZQ%3D%3D?line=0'>1</a>\u001b[0m user \u001b[39m=\u001b[39m \u001b[39mlist\u001b[39;49m\u001b[39m.\u001b[39;49mkey[\u001b[39m1\u001b[39m]\n\u001b[0;32m      <a href='vscode-notebook-cell:/e%3A/Pacmann/New%20Pacflix/test.ipynb#X13sZmlsZQ%3D%3D?line=1'>2</a>\u001b[0m \u001b[39mprint\u001b[39m(user)\n",
      "\u001b[1;31mAttributeError\u001b[0m: 'dict' object has no attribute 'key'"
     ]
    }
   ],
   "source": [
    "user = list.key[1]\n",
    "print(user)"
   ]
  },
  {
   "cell_type": "code",
   "execution_count": 9,
   "metadata": {},
   "outputs": [
    {
     "name": "stdout",
     "output_type": "stream",
     "text": [
      "Data for 'bubu': ['Basic Plan', datetime.date(2023, 10, 12), 120000]\n"
     ]
    }
   ],
   "source": [
    "user_data = {\n",
    "    'John Doe': ['Basic Plan', datetime.date(2023, 10, 12), 120000],\n",
    "    'Alice Smith': ['Standard Plan', datetime.date(2023, 10, 12), 160000],\n",
    "    'bubu': ['Basic Plan', datetime.date(2023, 10, 12), 120000],\n",
    "    'lala': ['Standard Plan', datetime.date(2023, 10, 12), 160000]\n",
    "}\n",
    "\n",
    "# Access the entry with key 'bubu'\n",
    "bubu_data = user_data.get('bubu')\n",
    "\n",
    "# Check if 'bubu' exists in the dictionary\n",
    "if bubu_data is not None:\n",
    "    print(\"Data for 'bubu':\", bubu_data)\n",
    "else:\n",
    "    print(\"'bubu' not found in the dictionary\")\n"
   ]
  },
  {
   "cell_type": "code",
   "execution_count": null,
   "metadata": {},
   "outputs": [],
   "source": []
  },
  {
   "cell_type": "code",
   "execution_count": null,
   "metadata": {},
   "outputs": [],
   "source": []
  },
  {
   "cell_type": "code",
   "execution_count": null,
   "metadata": {},
   "outputs": [],
   "source": []
  },
  {
   "cell_type": "code",
   "execution_count": null,
   "metadata": {},
   "outputs": [],
   "source": []
  },
  {
   "cell_type": "code",
   "execution_count": null,
   "metadata": {},
   "outputs": [],
   "source": []
  },
  {
   "cell_type": "code",
   "execution_count": null,
   "metadata": {},
   "outputs": [],
   "source": []
  },
  {
   "cell_type": "code",
   "execution_count": null,
   "metadata": {},
   "outputs": [],
   "source": []
  }
 ],
 "metadata": {
  "kernelspec": {
   "display_name": "Python 3",
   "language": "python",
   "name": "python3"
  },
  "language_info": {
   "codemirror_mode": {
    "name": "ipython",
    "version": 3
   },
   "file_extension": ".py",
   "mimetype": "text/x-python",
   "name": "python",
   "nbconvert_exporter": "python",
   "pygments_lexer": "ipython3",
   "version": "3.12.0"
  }
 },
 "nbformat": 4,
 "nbformat_minor": 2
}
