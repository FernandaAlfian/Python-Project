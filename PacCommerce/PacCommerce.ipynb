{
 "cells": [
  {
   "cell_type": "code",
   "execution_count": 5,
   "metadata": {},
   "outputs": [],
   "source": [
    "from tabulate import tabulate\n",
    "from math import sqrt\n",
    "\n",
    "\n",
    "class Membership:\n",
    "\n",
    "    # Defines and stores membership information in three dictionaries\n",
    "    user_data = {\n",
    "        'Sumbul': 'Platinum', \n",
    "        'Ana': 'Gold', \n",
    "        'Cahya': 'Platinum'\n",
    "        }\n",
    "\n",
    "\n",
    "    table_memberships = {\n",
    "        \"Platinum\" : [\"Platinum\", 15, \"Voucher Makanan, Voucher Ojek Online, Voucher Liburan, Cashback Max. 30%\"],\n",
    "        \"Gold\" : [\"Gold\", 10, \"Voucher Makanan, Voucher Ojek Online\"],\n",
    "        \"Silver\" : [\"Silver\", 8, \"Voucher Makanan\"]\n",
    "        }\n",
    "    \n",
    "\n",
    "    table_requirements = {\n",
    "        \"Platinum\" : [\"Platinum\", 8, 15],\n",
    "        \"Gold\" : [\"Gold\", 6, 10],\n",
    "        \"Silver\" : [\"Silver\", 5, 7]\n",
    "        }\n",
    "\n",
    "    \n",
    "    def __init__(self, username):\n",
    "        \"\"\"\n",
    "        Constructor method for the Membership class.\n",
    "        Initializes the username and user_data dictionary with the provided username.\n",
    "        \"\"\"\n",
    "\n",
    "        self.username = username\n",
    "        self.user_data[username] = \"\"\n",
    "\n",
    "\n",
    "    def check_all_memberhsip(self):\n",
    "        \"\"\"\n",
    "        Method to display all membership details in a tabulated format.\n",
    "        Prints the membership details, including membership name, discount percentage, and benefits,\n",
    "        using the table_memberships dictionary and the tabulate library.\n",
    "        \"\"\"\n",
    "\n",
    "        headers = [\"Membership\", \"Discount %\", \"Benefits\"]\n",
    "        table = [value for key, value in self.table_memberships.items()]\n",
    "        print(tabulate(table, headers, tablefmt=\"pretty\"))\n",
    "\n",
    "\n",
    "    def check_requirements(self):\n",
    "        \"\"\"\n",
    "        Method to display all membership requirements in a tabulated format.\n",
    "        Prints the membership requirements, including membership name, monthly expense, and monthly income,\n",
    "        using the table_requirements dictionary and the tabulate library.\n",
    "        \"\"\"\n",
    "            \n",
    "        headers = [\"Membership\", \"Monthly Expence\", \"Monthly Income\"]\n",
    "        table = [value for key, value in self.table_requirements.items()]\n",
    "        print(tabulate(table, headers, tablefmt=\"pretty\"))\n",
    "\n",
    "\n",
    "    def predict_membership(self, username, monthly_expense, monthly_income):\n",
    "        \"\"\"\n",
    "        Method to predict the membership type for a given user based on their monthly expense and monthly income.\n",
    "        Calculates the Euclidean Distance between the given monthly expense and income with the requirements\n",
    "        in the table_requirements dictionary to determine the closest membership type.\n",
    "        Updates the user_data dictionary with the predicted membership type for the given user.\n",
    "        Returns the predicted membership type.\n",
    "        \"\"\"\n",
    "\n",
    "        distance = {}\n",
    "\n",
    "        for key, value in self.table_requirements.items():\n",
    "            pred =  round(sqrt((monthly_expense - value[1])**2 + (monthly_income - value[2])**2), 2)\n",
    "            distance[key] = pred\n",
    "\n",
    "        print(f\"Hasil perhitungan Euclidean Distance dari {username} adalah {distance}\")\n",
    "        \n",
    "\n",
    "        for key, value in distance.items():\n",
    "            if value == min(distance.values()):\n",
    "                self.user_data[username] = key\n",
    "                return key\n",
    "            \n",
    "\n",
    "    def calculate_bill(self, username, list_transaction):\n",
    "        \"\"\"\n",
    "        Method to calculate the bill for a given user based on their list of transactions.\n",
    "        Calculates the total amount from the list of transactions.\n",
    "        Applies discount based on the membership type retrieved from the user_data dictionary.\n",
    "        Returns the calculated bill amount after applying the discount.\n",
    "        Raises exceptions for cases where the username is not found in the user_data dictionary\n",
    "        or the membership type is not predicted for the given user.\n",
    "        \"\"\"\n",
    "\n",
    "        total = sum(list_transaction)\n",
    "\n",
    "        try:\n",
    "            if username in self.user_data.keys():\n",
    "                membership_type = self.user_data[username]\n",
    "                if membership_type != '':\n",
    "                    discount = self.table_memberships[membership_type][1] / 100\n",
    "                    return total * (1 - discount)\n",
    "                else:\n",
    "                    raise Exception(\"Lakukan prediksi membership pada user {username}\")\n",
    "            \n",
    "            else:\n",
    "                raise Exception(f\"User {username} tidak ditemukan\")\n",
    "\n",
    "        except Exception as e:\n",
    "            print(e)\n",
    "\n",
    "\n",
    "    def check_membership(self, username):\n",
    "        if username in self.user_data.keys():\n",
    "            return self.user_data[username]\n",
    "    \n",
    "\n",
    "\n",
    "        \n"
   ]
  },
  {
   "cell_type": "code",
   "execution_count": 6,
   "metadata": {},
   "outputs": [
    {
     "data": {
      "text/plain": [
       "{'Sumbul': 'Platinum', 'Ana': 'Gold', 'Cahya': 'Platinum', 'Rahman': ''}"
      ]
     },
     "execution_count": 6,
     "metadata": {},
     "output_type": "execute_result"
    }
   ],
   "source": [
    "ana = Membership(\"Rahman\")\n",
    "ana.user_data"
   ]
  },
  {
   "cell_type": "code",
   "execution_count": 9,
   "metadata": {},
   "outputs": [
    {
     "name": "stdout",
     "output_type": "stream",
     "text": [
      "+------------+------------+--------------------------------------------------------------------------+\n",
      "| Membership | Discount % |                                 Benefits                                 |\n",
      "+------------+------------+--------------------------------------------------------------------------+\n",
      "|  Platinum  |     15     | Voucher Makanan, Voucher Ojek Online, Voucher Liburan, Cashback Max. 30% |\n",
      "|    Gold    |     10     |                   Voucher Makanan, Voucher Ojek Online                   |\n",
      "|   Silver   |     8      |                             Voucher Makanan                              |\n",
      "+------------+------------+--------------------------------------------------------------------------+\n"
     ]
    }
   ],
   "source": [
    "ana.check_all_memberhsip()"
   ]
  },
  {
   "cell_type": "code",
   "execution_count": 11,
   "metadata": {},
   "outputs": [
    {
     "name": "stdout",
     "output_type": "stream",
     "text": [
      "+------------+-----------------+----------------+\n",
      "| Membership | Monthly Expence | Monthly Income |\n",
      "+------------+-----------------+----------------+\n",
      "|  Platinum  |        8        |       15       |\n",
      "|    Gold    |        6        |       10       |\n",
      "|   Silver   |        5        |       7        |\n",
      "+------------+-----------------+----------------+\n"
     ]
    }
   ],
   "source": [
    "ana.check_requirements()"
   ]
  },
  {
   "cell_type": "code",
   "execution_count": 14,
   "metadata": {},
   "outputs": [
    {
     "name": "stdout",
     "output_type": "stream",
     "text": [
      "Hasil perhitungan Euclidean Distance dari Rahman adalah {'Platinum': 3.16, 'Gold': 3.61, 'Silver': 6.4}\n"
     ]
    },
    {
     "data": {
      "text/plain": [
       "'Platinum'"
      ]
     },
     "execution_count": 14,
     "metadata": {},
     "output_type": "execute_result"
    }
   ],
   "source": [
    "ana.predict_membership(ana.username, 9, 12)"
   ]
  },
  {
   "cell_type": "code",
   "execution_count": 15,
   "metadata": {},
   "outputs": [
    {
     "data": {
      "text/plain": [
       "637500.0"
      ]
     },
     "execution_count": 15,
     "metadata": {},
     "output_type": "execute_result"
    }
   ],
   "source": [
    "ana.calculate_bill(ana.username, [150_000, 200_000, 400_000])"
   ]
  },
  {
   "cell_type": "code",
   "execution_count": 16,
   "metadata": {},
   "outputs": [
    {
     "data": {
      "text/plain": [
       "675000.0"
      ]
     },
     "execution_count": 16,
     "metadata": {},
     "output_type": "execute_result"
    }
   ],
   "source": [
    "ana.calculate_bill(\"Ana\", [150_000, 200_000, 400_000])"
   ]
  },
  {
   "cell_type": "code",
   "execution_count": 18,
   "metadata": {},
   "outputs": [
    {
     "name": "stdout",
     "output_type": "stream",
     "text": [
      "User Bambang tidak ditemukan\n"
     ]
    }
   ],
   "source": [
    "ana.calculate_bill(\"Bambang\", [150_000, 200_000, 400_000])"
   ]
  },
  {
   "cell_type": "code",
   "execution_count": 20,
   "metadata": {},
   "outputs": [],
   "source": [
    "ana = Membership(\"Bambang\")"
   ]
  },
  {
   "cell_type": "code",
   "execution_count": 21,
   "metadata": {},
   "outputs": [
    {
     "name": "stdout",
     "output_type": "stream",
     "text": [
      "Hasil perhitungan Euclidean Distance dari Bambang adalah {'Platinum': 12.08, 'Gold': 6.71, 'Silver': 3.61}\n"
     ]
    },
    {
     "data": {
      "text/plain": [
       "'Silver'"
      ]
     },
     "execution_count": 21,
     "metadata": {},
     "output_type": "execute_result"
    }
   ],
   "source": [
    "ana.predict_membership(ana.username, 3,4)"
   ]
  },
  {
   "cell_type": "code",
   "execution_count": 22,
   "metadata": {},
   "outputs": [
    {
     "data": {
      "text/plain": [
       "1577800.0"
      ]
     },
     "execution_count": 22,
     "metadata": {},
     "output_type": "execute_result"
    }
   ],
   "source": [
    "ana.calculate_bill(ana.username, [300_000, 150_000, 1_250_000, 15_000])"
   ]
  },
  {
   "cell_type": "code",
   "execution_count": null,
   "metadata": {},
   "outputs": [],
   "source": []
  }
 ],
 "metadata": {
  "kernelspec": {
   "display_name": "Python 3",
   "language": "python",
   "name": "python3"
  },
  "language_info": {
   "codemirror_mode": {
    "name": "ipython",
    "version": 3
   },
   "file_extension": ".py",
   "mimetype": "text/x-python",
   "name": "python",
   "nbconvert_exporter": "python",
   "pygments_lexer": "ipython3",
   "version": "3.10.5"
  },
  "orig_nbformat": 4
 },
 "nbformat": 4,
 "nbformat_minor": 2
}
